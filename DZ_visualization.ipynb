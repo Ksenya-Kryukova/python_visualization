{
 "cells": [
  {
   "cell_type": "code",
   "execution_count": 1,
   "metadata": {},
   "outputs": [],
   "source": [
    "import pandas as pd\n",
    "import matplotlib.pyplot as plt"
   ]
  },
  {
   "cell_type": "code",
   "execution_count": 15,
   "metadata": {},
   "outputs": [],
   "source": [
    "from pylab import rcParams\n",
    "rcParams['figure.figsize'] = 10,7"
   ]
  },
  {
   "cell_type": "code",
   "execution_count": 22,
   "metadata": {},
   "outputs": [
    {
     "data": {
      "text/html": [
       "<div>\n",
       "<style scoped>\n",
       "    .dataframe tbody tr th:only-of-type {\n",
       "        vertical-align: middle;\n",
       "    }\n",
       "\n",
       "    .dataframe tbody tr th {\n",
       "        vertical-align: top;\n",
       "    }\n",
       "\n",
       "    .dataframe thead th {\n",
       "        text-align: right;\n",
       "    }\n",
       "</style>\n",
       "<table border=\"1\" class=\"dataframe\">\n",
       "  <thead>\n",
       "    <tr style=\"text-align: right;\">\n",
       "      <th></th>\n",
       "      <th>Country</th>\n",
       "      <th>Total_cases</th>\n",
       "      <th>Total_death</th>\n",
       "      <th>Total_recovered</th>\n",
       "      <th>Active_cases</th>\n",
       "      <th>Serious_critical</th>\n",
       "      <th>Total_Cases/1M_pop</th>\n",
       "      <th>Deaths/1M_pop</th>\n",
       "      <th>Total_Tests</th>\n",
       "      <th>Tests/1M_pop</th>\n",
       "      <th>Population</th>\n",
       "    </tr>\n",
       "  </thead>\n",
       "  <tbody>\n",
       "    <tr>\n",
       "      <th>0</th>\n",
       "      <td>Russia</td>\n",
       "      <td>917884</td>\n",
       "      <td>15617</td>\n",
       "      <td>729411.0</td>\n",
       "      <td>172856.0</td>\n",
       "      <td>2300.0</td>\n",
       "      <td>6289</td>\n",
       "      <td>107.0</td>\n",
       "      <td>32221546</td>\n",
       "      <td>220783</td>\n",
       "      <td>145942457</td>\n",
       "    </tr>\n",
       "    <tr>\n",
       "      <th>1</th>\n",
       "      <td>Spain</td>\n",
       "      <td>358843</td>\n",
       "      <td>28617</td>\n",
       "      <td>NaN</td>\n",
       "      <td>NaN</td>\n",
       "      <td>617.0</td>\n",
       "      <td>7675</td>\n",
       "      <td>612.0</td>\n",
       "      <td>7472031</td>\n",
       "      <td>159805</td>\n",
       "      <td>46757092</td>\n",
       "    </tr>\n",
       "    <tr>\n",
       "      <th>2</th>\n",
       "      <td>UK</td>\n",
       "      <td>317379</td>\n",
       "      <td>41361</td>\n",
       "      <td>NaN</td>\n",
       "      <td>NaN</td>\n",
       "      <td>73.0</td>\n",
       "      <td>4672</td>\n",
       "      <td>609.0</td>\n",
       "      <td>14320621</td>\n",
       "      <td>210812</td>\n",
       "      <td>67930780</td>\n",
       "    </tr>\n",
       "    <tr>\n",
       "      <th>3</th>\n",
       "      <td>Italy</td>\n",
       "      <td>253438</td>\n",
       "      <td>35392</td>\n",
       "      <td>20364.0</td>\n",
       "      <td>14406.0</td>\n",
       "      <td>55.0</td>\n",
       "      <td>4192</td>\n",
       "      <td>585.0</td>\n",
       "      <td>7520610</td>\n",
       "      <td>12441</td>\n",
       "      <td>60450390</td>\n",
       "    </tr>\n",
       "    <tr>\n",
       "      <th>4</th>\n",
       "      <td>Germany</td>\n",
       "      <td>224478</td>\n",
       "      <td>9290</td>\n",
       "      <td>202900.0</td>\n",
       "      <td>12288.0</td>\n",
       "      <td>224.0</td>\n",
       "      <td>2678</td>\n",
       "      <td>111.0</td>\n",
       "      <td>8586648</td>\n",
       "      <td>102444</td>\n",
       "      <td>83817831</td>\n",
       "    </tr>\n",
       "  </tbody>\n",
       "</table>\n",
       "</div>"
      ],
      "text/plain": [
       "   Country  Total_cases  Total_death  Total_recovered  Active_cases  \\\n",
       "0   Russia       917884        15617         729411.0      172856.0   \n",
       "1    Spain       358843        28617              NaN           NaN   \n",
       "2       UK       317379        41361              NaN           NaN   \n",
       "3    Italy       253438        35392          20364.0       14406.0   \n",
       "4  Germany       224478         9290         202900.0       12288.0   \n",
       "\n",
       "   Serious_critical  Total_Cases/1M_pop  Deaths/1M_pop  Total_Tests  \\\n",
       "0            2300.0                6289          107.0     32221546   \n",
       "1             617.0                7675          612.0      7472031   \n",
       "2              73.0                4672          609.0     14320621   \n",
       "3              55.0                4192          585.0      7520610   \n",
       "4             224.0                2678          111.0      8586648   \n",
       "\n",
       "   Tests/1M_pop  Population  \n",
       "0        220783   145942457  \n",
       "1        159805    46757092  \n",
       "2        210812    67930780  \n",
       "3         12441    60450390  \n",
       "4        102444    83817831  "
      ]
     },
     "execution_count": 22,
     "metadata": {},
     "output_type": "execute_result"
    }
   ],
   "source": [
    "covid = pd.read_excel('covid-19.xlsx')\n",
    "covid.head()"
   ]
  },
  {
   "cell_type": "code",
   "execution_count": 23,
   "metadata": {},
   "outputs": [
    {
     "data": {
      "image/png": "[encoded data removed]",
      "text/plain": [
       "<Figure size 720x504 with 1 Axes>"
      ]
     },
     "metadata": {
      "needs_background": "light"
     },
     "output_type": "display_data"
    }
   ],
   "source": [
    "covid_barh = covid.sort_values('Total_cases', ascending=False).head(15)\n",
    "plt.barh(covid_barh['Country'], covid_barh['Total_cases'])\n",
    "\n",
    "plt.xlabel('Quantity of total cases')\n",
    "plt.ylabel('Country')\n",
    "plt.title('Top 15 European country with the largest quantity of Covid cases')\n",
    "plt.grid()"
   ]
  },
  {
   "cell_type": "markdown",
   "metadata": {},
   "source": [
    "Рассматривая график выше, нельзя сказать, почему в этих странах такое количество заболевших: развит бизнес и/или туризм с Китаем (эпицентром начала эпидемии), большое число населения и т.д.\n",
    "Мы просто можем сделать вывод, что на сегодняшний день, эти страны входят в топ-15 по количеству зафикисированных случаев."
   ]
  },
  {
   "cell_type": "code",
   "execution_count": 19,
   "metadata": {},
   "outputs": [],
   "source": [
    "#считаем количество выздоровевших из числа зараженных\n",
    "def share_of_recovered(row):\n",
    "    mean_=(row['Total_recovered']/row['Total_cases'])\n",
    "    return mean_"
   ]
  },
  {
   "cell_type": "code",
   "execution_count": 58,
   "metadata": {},
   "outputs": [
    {
     "data": {
      "text/html": [
       "<div>\n",
       "<style scoped>\n",
       "    .dataframe tbody tr th:only-of-type {\n",
       "        vertical-align: middle;\n",
       "    }\n",
       "\n",
       "    .dataframe tbody tr th {\n",
       "        vertical-align: top;\n",
       "    }\n",
       "\n",
       "    .dataframe thead th {\n",
       "        text-align: right;\n",
       "    }\n",
       "</style>\n",
       "<table border=\"1\" class=\"dataframe\">\n",
       "  <thead>\n",
       "    <tr style=\"text-align: right;\">\n",
       "      <th></th>\n",
       "      <th>Country</th>\n",
       "      <th>Total_cases</th>\n",
       "      <th>Total_death</th>\n",
       "      <th>Total_recovered</th>\n",
       "      <th>Active_cases</th>\n",
       "      <th>Serious_critical</th>\n",
       "      <th>Total_Cases/1M_pop</th>\n",
       "      <th>Deaths/1M_pop</th>\n",
       "      <th>Total_Tests</th>\n",
       "      <th>Tests/1M_pop</th>\n",
       "      <th>Population</th>\n",
       "      <th>Share_of_recovered</th>\n",
       "    </tr>\n",
       "  </thead>\n",
       "  <tbody>\n",
       "    <tr>\n",
       "      <th>47</th>\n",
       "      <td>Vatican City</td>\n",
       "      <td>12</td>\n",
       "      <td>0</td>\n",
       "      <td>12.0</td>\n",
       "      <td>0.0</td>\n",
       "      <td>0.0</td>\n",
       "      <td>14981</td>\n",
       "      <td>0.0</td>\n",
       "      <td>0</td>\n",
       "      <td>0</td>\n",
       "      <td>801</td>\n",
       "      <td>1.000000</td>\n",
       "    </tr>\n",
       "    <tr>\n",
       "      <th>9</th>\n",
       "      <td>Belarus</td>\n",
       "      <td>69424</td>\n",
       "      <td>607</td>\n",
       "      <td>66747.0</td>\n",
       "      <td>207.0</td>\n",
       "      <td>0.0</td>\n",
       "      <td>7347</td>\n",
       "      <td>64.0</td>\n",
       "      <td>1412589</td>\n",
       "      <td>149497</td>\n",
       "      <td>9448925</td>\n",
       "      <td>0.961440</td>\n",
       "    </tr>\n",
       "    <tr>\n",
       "      <th>46</th>\n",
       "      <td>Liechtenstein</td>\n",
       "      <td>91</td>\n",
       "      <td>1</td>\n",
       "      <td>87.0</td>\n",
       "      <td>3.0</td>\n",
       "      <td>0.0</td>\n",
       "      <td>2386</td>\n",
       "      <td>26.0</td>\n",
       "      <td>900</td>\n",
       "      <td>23596</td>\n",
       "      <td>38142</td>\n",
       "      <td>0.956044</td>\n",
       "    </tr>\n",
       "    <tr>\n",
       "      <th>40</th>\n",
       "      <td>San Marino</td>\n",
       "      <td>699</td>\n",
       "      <td>42</td>\n",
       "      <td>657.0</td>\n",
       "      <td>0.0</td>\n",
       "      <td>0.0</td>\n",
       "      <td>20595</td>\n",
       "      <td>1237.0</td>\n",
       "      <td>6068</td>\n",
       "      <td>178786</td>\n",
       "      <td>3394</td>\n",
       "      <td>0.939914</td>\n",
       "    </tr>\n",
       "    <tr>\n",
       "      <th>36</th>\n",
       "      <td>Iceland</td>\n",
       "      <td>1999</td>\n",
       "      <td>10</td>\n",
       "      <td>1870.0</td>\n",
       "      <td>119.0</td>\n",
       "      <td>1.0</td>\n",
       "      <td>5853</td>\n",
       "      <td>29.0</td>\n",
       "      <td>177586</td>\n",
       "      <td>519987</td>\n",
       "      <td>34152</td>\n",
       "      <td>0.935468</td>\n",
       "    </tr>\n",
       "    <tr>\n",
       "      <th>43</th>\n",
       "      <td>Isle of Man</td>\n",
       "      <td>336</td>\n",
       "      <td>24</td>\n",
       "      <td>312.0</td>\n",
       "      <td>0.0</td>\n",
       "      <td>0.0</td>\n",
       "      <td>3949</td>\n",
       "      <td>282.0</td>\n",
       "      <td>9066</td>\n",
       "      <td>106547</td>\n",
       "      <td>85089</td>\n",
       "      <td>0.928571</td>\n",
       "    </tr>\n",
       "    <tr>\n",
       "      <th>25</th>\n",
       "      <td>Finland</td>\n",
       "      <td>7720</td>\n",
       "      <td>333</td>\n",
       "      <td>7050.0</td>\n",
       "      <td>337.0</td>\n",
       "      <td>0.0</td>\n",
       "      <td>1393</td>\n",
       "      <td>60.0</td>\n",
       "      <td>460908</td>\n",
       "      <td>83169</td>\n",
       "      <td>5541815</td>\n",
       "      <td>0.913212</td>\n",
       "    </tr>\n",
       "    <tr>\n",
       "      <th>44</th>\n",
       "      <td>Gibraltar</td>\n",
       "      <td>209</td>\n",
       "      <td>0</td>\n",
       "      <td>190.0</td>\n",
       "      <td>19.0</td>\n",
       "      <td>0.0</td>\n",
       "      <td>6204</td>\n",
       "      <td>NaN</td>\n",
       "      <td>27046</td>\n",
       "      <td>80279</td>\n",
       "      <td>3369</td>\n",
       "      <td>0.909091</td>\n",
       "    </tr>\n",
       "    <tr>\n",
       "      <th>35</th>\n",
       "      <td>Estonia</td>\n",
       "      <td>2184</td>\n",
       "      <td>63</td>\n",
       "      <td>1976.0</td>\n",
       "      <td>145.0</td>\n",
       "      <td>0.0</td>\n",
       "      <td>1646</td>\n",
       "      <td>47.0</td>\n",
       "      <td>133506</td>\n",
       "      <td>100634</td>\n",
       "      <td>1326649</td>\n",
       "      <td>0.904762</td>\n",
       "    </tr>\n",
       "    <tr>\n",
       "      <th>4</th>\n",
       "      <td>Germany</td>\n",
       "      <td>224478</td>\n",
       "      <td>9290</td>\n",
       "      <td>202900.0</td>\n",
       "      <td>12288.0</td>\n",
       "      <td>224.0</td>\n",
       "      <td>2678</td>\n",
       "      <td>111.0</td>\n",
       "      <td>8586648</td>\n",
       "      <td>102444</td>\n",
       "      <td>83817831</td>\n",
       "      <td>0.903875</td>\n",
       "    </tr>\n",
       "    <tr>\n",
       "      <th>41</th>\n",
       "      <td>Channel Islands</td>\n",
       "      <td>607</td>\n",
       "      <td>47</td>\n",
       "      <td>545.0</td>\n",
       "      <td>15.0</td>\n",
       "      <td>0.0</td>\n",
       "      <td>3487</td>\n",
       "      <td>270.0</td>\n",
       "      <td>52055</td>\n",
       "      <td>299062</td>\n",
       "      <td>174061</td>\n",
       "      <td>0.897858</td>\n",
       "    </tr>\n",
       "    <tr>\n",
       "      <th>16</th>\n",
       "      <td>Serbia</td>\n",
       "      <td>29471</td>\n",
       "      <td>670</td>\n",
       "      <td>26440.0</td>\n",
       "      <td>2361.0</td>\n",
       "      <td>75.0</td>\n",
       "      <td>3375</td>\n",
       "      <td>77.0</td>\n",
       "      <td>798009</td>\n",
       "      <td>91381</td>\n",
       "      <td>8732803</td>\n",
       "      <td>0.897153</td>\n",
       "    </tr>\n",
       "    <tr>\n",
       "      <th>18</th>\n",
       "      <td>Austria</td>\n",
       "      <td>23179</td>\n",
       "      <td>728</td>\n",
       "      <td>20627.0</td>\n",
       "      <td>1824.0</td>\n",
       "      <td>21.0</td>\n",
       "      <td>2572</td>\n",
       "      <td>81.0</td>\n",
       "      <td>1009354</td>\n",
       "      <td>111991</td>\n",
       "      <td>9012838</td>\n",
       "      <td>0.889900</td>\n",
       "    </tr>\n",
       "    <tr>\n",
       "      <th>24</th>\n",
       "      <td>Norway</td>\n",
       "      <td>9965</td>\n",
       "      <td>261</td>\n",
       "      <td>8857.0</td>\n",
       "      <td>847.0</td>\n",
       "      <td>2.0</td>\n",
       "      <td>1836</td>\n",
       "      <td>48.0</td>\n",
       "      <td>530446</td>\n",
       "      <td>97751</td>\n",
       "      <td>5426512</td>\n",
       "      <td>0.888811</td>\n",
       "    </tr>\n",
       "    <tr>\n",
       "      <th>14</th>\n",
       "      <td>Switzerland</td>\n",
       "      <td>37924</td>\n",
       "      <td>1991</td>\n",
       "      <td>33200.0</td>\n",
       "      <td>2733.0</td>\n",
       "      <td>26.0</td>\n",
       "      <td>4378</td>\n",
       "      <td>230.0</td>\n",
       "      <td>876065</td>\n",
       "      <td>101133</td>\n",
       "      <td>8662507</td>\n",
       "      <td>0.875435</td>\n",
       "    </tr>\n",
       "  </tbody>\n",
       "</table>\n",
       "</div>"
      ],
      "text/plain": [
       "            Country  Total_cases  Total_death  Total_recovered  Active_cases  \\\n",
       "47     Vatican City           12            0             12.0           0.0   \n",
       "9           Belarus        69424          607          66747.0         207.0   \n",
       "46    Liechtenstein           91            1             87.0           3.0   \n",
       "40       San Marino          699           42            657.0           0.0   \n",
       "36          Iceland         1999           10           1870.0         119.0   \n",
       "43      Isle of Man          336           24            312.0           0.0   \n",
       "25          Finland         7720          333           7050.0         337.0   \n",
       "44        Gibraltar          209            0            190.0          19.0   \n",
       "35          Estonia         2184           63           1976.0         145.0   \n",
       "4           Germany       224478         9290         202900.0       12288.0   \n",
       "41  Channel Islands          607           47            545.0          15.0   \n",
       "16           Serbia        29471          670          26440.0        2361.0   \n",
       "18          Austria        23179          728          20627.0        1824.0   \n",
       "24           Norway         9965          261           8857.0         847.0   \n",
       "14      Switzerland        37924         1991          33200.0        2733.0   \n",
       "\n",
       "    Serious_critical  Total_Cases/1M_pop  Deaths/1M_pop  Total_Tests  \\\n",
       "47               0.0               14981            0.0            0   \n",
       "9                0.0                7347           64.0      1412589   \n",
       "46               0.0                2386           26.0          900   \n",
       "40               0.0               20595         1237.0         6068   \n",
       "36               1.0                5853           29.0       177586   \n",
       "43               0.0                3949          282.0         9066   \n",
       "25               0.0                1393           60.0       460908   \n",
       "44               0.0                6204            NaN        27046   \n",
       "35               0.0                1646           47.0       133506   \n",
       "4              224.0                2678          111.0      8586648   \n",
       "41               0.0                3487          270.0        52055   \n",
       "16              75.0                3375           77.0       798009   \n",
       "18              21.0                2572           81.0      1009354   \n",
       "24               2.0                1836           48.0       530446   \n",
       "14              26.0                4378          230.0       876065   \n",
       "\n",
       "    Tests/1M_pop  Population  Share_of_recovered  \n",
       "47             0         801            1.000000  \n",
       "9         149497     9448925            0.961440  \n",
       "46         23596       38142            0.956044  \n",
       "40        178786        3394            0.939914  \n",
       "36        519987       34152            0.935468  \n",
       "43        106547       85089            0.928571  \n",
       "25         83169     5541815            0.913212  \n",
       "44         80279        3369            0.909091  \n",
       "35        100634     1326649            0.904762  \n",
       "4         102444    83817831            0.903875  \n",
       "41        299062      174061            0.897858  \n",
       "16         91381     8732803            0.897153  \n",
       "18        111991     9012838            0.889900  \n",
       "24         97751     5426512            0.888811  \n",
       "14        101133     8662507            0.875435  "
      ]
     },
     "execution_count": 58,
     "metadata": {},
     "output_type": "execute_result"
    }
   ],
   "source": [
    "covid['Share_of_recovered'] = covid.apply(share_of_recovered, axis=1)\n",
    "covid.sort_values('Share_of_recovered', ascending=False).head(15)"
   ]
  },
  {
   "cell_type": "code",
   "execution_count": 54,
   "metadata": {},
   "outputs": [
    {
     "name": "stderr",
     "output_type": "stream",
     "text": [
      "C:\\ProgramData\\Anaconda3\\lib\\site-packages\\numpy\\lib\\histograms.py:839: RuntimeWarning: invalid value encountered in greater_equal\n",
      "  keep = (tmp_a >= first_edge)\n",
      "C:\\ProgramData\\Anaconda3\\lib\\site-packages\\numpy\\lib\\histograms.py:840: RuntimeWarning: invalid value encountered in less_equal\n",
      "  keep &= (tmp_a <= last_edge)\n"
     ]
    },
    {
     "data": {
      "text/plain": [
       "(array([ 1.,  1.,  0.,  1.,  3.,  4.,  8.,  5., 13.,  8.]),\n",
       " array([0.08035101, 0.17231591, 0.26428081, 0.35624571, 0.44821061,\n",
       "        0.54017551, 0.63214041, 0.7241053 , 0.8160702 , 0.9080351 ,\n",
       "        1.        ]),\n",
       " <a list of 10 Patch objects>)"
      ]
     },
     "execution_count": 54,
     "metadata": {},
     "output_type": "execute_result"
    },
    {
     "data": {
      "image/png": "[encoded data removed]",
      "text/plain": [
       "<Figure size 720x504 with 1 Axes>"
      ]
     },
     "metadata": {
      "needs_background": "light"
     },
     "output_type": "display_data"
    }
   ],
   "source": [
    "plt.hist(covid['Share_of_recovered'])"
   ]
  },
  {
   "cell_type": "code",
   "execution_count": null,
   "metadata": {},
   "outputs": [],
   "source": [
    "#из гистограммы можно сдлеать вывод о том, что в Европе уже нормализовалась ситуация с ковидом и большинство людей уже \n",
    "#выздоровело, хотя лучше бы это смотреть в динамике, так сначала, например, в Испании и в Италии был относительно высокий \n",
    "#процент смертности от ковида"
   ]
  },
  {
   "cell_type": "code",
   "execution_count": null,
   "metadata": {},
   "outputs": [],
   "source": []
  },
  {
   "cell_type": "code",
   "execution_count": 64,
   "metadata": {},
   "outputs": [
    {
     "data": {
      "image/png": "[encoded data removed]",
      "text/plain": [
       "<Figure size 720x504 with 1 Axes>"
      ]
     },
     "metadata": {
      "needs_background": "light"
     },
     "output_type": "display_data"
    }
   ],
   "source": [
    "plt.boxplot(covid['Total_Cases/1M_pop'])\n",
    "plt.ylabel('Quantity of Total_Cases in 1 million of population')\n",
    "plt.title('Total_Cases in 1 million of population in Europe')\n",
    "plt.grid()"
   ]
  },
  {
   "cell_type": "markdown",
   "metadata": {},
   "source": [
    "Из этой диаграммы видно, что в среднем было в Европе было около 3000 случаев на 1 миллион жителей, однако видны такие выбросы, как в Сан Марино, Ватикане, люксембурге и Андорре, связанные с тем, что это очень маленькие по площади государства, число жителдей которых намного меньшще, чем в других европейских странах. Также видим, чо у нас верхний квартиль (75%) с большим размахом - от 6 до 12к"
   ]
  },
  {
   "cell_type": "code",
   "execution_count": 30,
   "metadata": {},
   "outputs": [
    {
     "data": {
      "text/html": [
       "<div>\n",
       "<style scoped>\n",
       "    .dataframe tbody tr th:only-of-type {\n",
       "        vertical-align: middle;\n",
       "    }\n",
       "\n",
       "    .dataframe tbody tr th {\n",
       "        vertical-align: top;\n",
       "    }\n",
       "\n",
       "    .dataframe thead th {\n",
       "        text-align: right;\n",
       "    }\n",
       "</style>\n",
       "<table border=\"1\" class=\"dataframe\">\n",
       "  <thead>\n",
       "    <tr style=\"text-align: right;\">\n",
       "      <th></th>\n",
       "      <th>Date</th>\n",
       "      <th>New_cases</th>\n",
       "      <th>Recovered_in_a_day</th>\n",
       "      <th>Dead_in_a_day</th>\n",
       "    </tr>\n",
       "  </thead>\n",
       "  <tbody>\n",
       "    <tr>\n",
       "      <th>0</th>\n",
       "      <td>2020-08-09</td>\n",
       "      <td>5189</td>\n",
       "      <td>3215</td>\n",
       "      <td>77</td>\n",
       "    </tr>\n",
       "    <tr>\n",
       "      <th>1</th>\n",
       "      <td>2020-08-10</td>\n",
       "      <td>5118</td>\n",
       "      <td>3259</td>\n",
       "      <td>70</td>\n",
       "    </tr>\n",
       "    <tr>\n",
       "      <th>2</th>\n",
       "      <td>2020-08-11</td>\n",
       "      <td>4945</td>\n",
       "      <td>6494</td>\n",
       "      <td>130</td>\n",
       "    </tr>\n",
       "    <tr>\n",
       "      <th>3</th>\n",
       "      <td>2020-08-12</td>\n",
       "      <td>5102</td>\n",
       "      <td>7123</td>\n",
       "      <td>129</td>\n",
       "    </tr>\n",
       "    <tr>\n",
       "      <th>4</th>\n",
       "      <td>2020-08-13</td>\n",
       "      <td>5057</td>\n",
       "      <td>6098</td>\n",
       "      <td>124</td>\n",
       "    </tr>\n",
       "    <tr>\n",
       "      <th>5</th>\n",
       "      <td>2020-08-14</td>\n",
       "      <td>5065</td>\n",
       "      <td>6568</td>\n",
       "      <td>114</td>\n",
       "    </tr>\n",
       "    <tr>\n",
       "      <th>6</th>\n",
       "      <td>2020-08-15</td>\n",
       "      <td>5061</td>\n",
       "      <td>6447</td>\n",
       "      <td>119</td>\n",
       "    </tr>\n",
       "    <tr>\n",
       "      <th>7</th>\n",
       "      <td>2020-08-16</td>\n",
       "      <td>4969</td>\n",
       "      <td>3557</td>\n",
       "      <td>68</td>\n",
       "    </tr>\n",
       "  </tbody>\n",
       "</table>\n",
       "</div>"
      ],
      "text/plain": [
       "        Date  New_cases  Recovered_in_a_day  Dead_in_a_day\n",
       "0 2020-08-09       5189                3215             77\n",
       "1 2020-08-10       5118                3259             70\n",
       "2 2020-08-11       4945                6494            130\n",
       "3 2020-08-12       5102                7123            129\n",
       "4 2020-08-13       5057                6098            124\n",
       "5 2020-08-14       5065                6568            114\n",
       "6 2020-08-15       5061                6447            119\n",
       "7 2020-08-16       4969                3557             68"
      ]
     },
     "execution_count": 30,
     "metadata": {},
     "output_type": "execute_result"
    }
   ],
   "source": [
    "#Данные о новых слуаях ковида в России за неделю с 9 по 16 августа\n",
    "covid_rus = pd.read_excel('covid_Rus_09.08-16.08.xlsx')\n",
    "covid_rus"
   ]
  },
  {
   "cell_type": "code",
   "execution_count": 63,
   "metadata": {
    "scrolled": true
   },
   "outputs": [
    {
     "data": {
      "text/plain": [
       "<matplotlib.legend.Legend at 0x1b1417f48c8>"
      ]
     },
     "execution_count": 63,
     "metadata": {},
     "output_type": "execute_result"
    },
    {
     "data": {
      "image/png": "[encoded data removed]",
      "text/plain": [
       "<Figure size 720x504 with 1 Axes>"
      ]
     },
     "metadata": {
      "needs_background": "light"
     },
     "output_type": "display_data"
    }
   ],
   "source": [
    "plt.bar(covid_rus['Date'], covid_rus['Recovered_in_a_day'], label='Daily recovered')\n",
    "\n",
    "plt.bar(covid_rus['Date'], covid_rus['New_cases'], label='Daily new cases')\n",
    "\n",
    "plt.xlabel('Date')\n",
    "plt.ylabel('Amount of cases')\n",
    "plt.title('Daily cases in Russia from 09.08.2020 to 16.08.2020')\n",
    "plt.grid()\n",
    "plt.legend()"
   ]
  },
  {
   "cell_type": "code",
   "execution_count": null,
   "metadata": {},
   "outputs": [],
   "source": [
    "#В России число новых случаев в день почти равно числу выздоровывеших, хотя есть несколько дней, когда выздоровевших больше.\n",
    "#О чем это говорит? 1. Больницы продолжают работать на износ: не успевают выписать выздоровевших, как тут же появляются новые..\n",
    "#В России еще далеко до закрытия эпидемии, потому число 5000-6000 в день считается высоким показателем."
   ]
  },
  {
   "cell_type": "code",
   "execution_count": 45,
   "metadata": {},
   "outputs": [],
   "source": [
    "import seaborn as sns"
   ]
  },
  {
   "cell_type": "code",
   "execution_count": 39,
   "metadata": {},
   "outputs": [
    {
     "data": {
      "text/plain": [
       "<seaborn.axisgrid.PairGrid at 0x1b13f5b4288>"
      ]
     },
     "execution_count": 39,
     "metadata": {},
     "output_type": "execute_result"
    },
    {
     "data": {
      "image/png": "[encoded data removed]",
      "text/plain": [
       "<Figure size 540x540 with 12 Axes>"
      ]
     },
     "metadata": {
      "needs_background": "light"
     },
     "output_type": "display_data"
    }
   ],
   "source": [
    "sns_plot = sns.pairplot(\n",
    "    covid_rus[['New_cases', 'Recovered_in_a_day', 'Dead_in_a_day']])\n",
    "sns_plot"
   ]
  },
  {
   "cell_type": "code",
   "execution_count": null,
   "metadata": {},
   "outputs": [],
   "source": [
    "#Если честно, то сложно анализировать. По сути, тут нет никакой взаимосвязи, а просто статистические данные."
   ]
  },
  {
   "cell_type": "code",
   "execution_count": 41,
   "metadata": {},
   "outputs": [
    {
     "data": {
      "text/plain": [
       "<seaborn.axisgrid.JointGrid at 0x1b140c2c308>"
      ]
     },
     "execution_count": 41,
     "metadata": {},
     "output_type": "execute_result"
    },
    {
     "data": {
      "image/png": "[encoded data removed]",
      "text/plain": [
       "<Figure size 432x432 with 3 Axes>"
      ]
     },
     "metadata": {
      "needs_background": "light"
     },
     "output_type": "display_data"
    }
   ],
   "source": [
    "sns.jointplot(x='Recovered_in_a_day', y='Dead_in_a_day', \n",
    "              data=covid_rus, kind='reg')"
   ]
  },
  {
   "cell_type": "code",
   "execution_count": null,
   "metadata": {},
   "outputs": [],
   "source": [
    "#Если честно, то сложно анализировать. По сути, тут нет никакой взаимосвязи, а просто статистические данные."
   ]
  },
  {
   "cell_type": "code",
   "execution_count": null,
   "metadata": {},
   "outputs": [],
   "source": []
  },
  {
   "cell_type": "code",
   "execution_count": 48,
   "metadata": {},
   "outputs": [
    {
     "ename": "ModuleNotFoundError",
     "evalue": "No module named 'plotly'",
     "output_type": "error",
     "traceback": [
      "\u001b[1;31m---------------------------------------------------------------------------\u001b[0m",
      "\u001b[1;31mModuleNotFoundError\u001b[0m                       Traceback (most recent call last)",
      "\u001b[1;32m<ipython-input-48-5ec83483269e>\u001b[0m in \u001b[0;36m<module>\u001b[1;34m\u001b[0m\n\u001b[1;32m----> 1\u001b[1;33m \u001b[1;32mfrom\u001b[0m \u001b[0mplotly\u001b[0m\u001b[1;33m.\u001b[0m\u001b[0moffline\u001b[0m \u001b[1;32mimport\u001b[0m \u001b[0minit_notebook_mode\u001b[0m\u001b[1;33m,\u001b[0m \u001b[0miplot\u001b[0m\u001b[1;33m\u001b[0m\u001b[1;33m\u001b[0m\u001b[0m\n\u001b[0m\u001b[0;32m      2\u001b[0m \u001b[1;32mimport\u001b[0m \u001b[0mplotly\u001b[0m\u001b[1;33m\u001b[0m\u001b[1;33m\u001b[0m\u001b[0m\n\u001b[0;32m      3\u001b[0m \u001b[1;32mimport\u001b[0m \u001b[0mplotly\u001b[0m\u001b[1;33m.\u001b[0m\u001b[0mgraph_objs\u001b[0m \u001b[1;32mas\u001b[0m \u001b[0mgo\u001b[0m\u001b[1;33m\u001b[0m\u001b[1;33m\u001b[0m\u001b[0m\n\u001b[0;32m      4\u001b[0m \u001b[1;33m\u001b[0m\u001b[0m\n\u001b[0;32m      5\u001b[0m \u001b[0minit_notebook_mode\u001b[0m\u001b[1;33m(\u001b[0m\u001b[0mconnected\u001b[0m\u001b[1;33m=\u001b[0m\u001b[1;32mTrue\u001b[0m\u001b[1;33m)\u001b[0m\u001b[1;33m\u001b[0m\u001b[1;33m\u001b[0m\u001b[0m\n",
      "\u001b[1;31mModuleNotFoundError\u001b[0m: No module named 'plotly'"
     ]
    }
   ],
   "source": [
    "from plotly.offline import init_notebook_mode, iplot\n",
    "import plotly\n",
    "import plotly.graph_objs as go\n",
    "\n",
    "init_notebook_mode(connected=True)"
   ]
  },
  {
   "cell_type": "code",
   "execution_count": null,
   "metadata": {},
   "outputs": [],
   "source": [
    "#Вот здесь прошу помочь разобраться, почему не установилась библиотека..."
   ]
  },
  {
   "cell_type": "code",
   "execution_count": null,
   "metadata": {},
   "outputs": [],
   "source": []
  }
 ],
 "metadata": {
  "kernelspec": {
   "display_name": "Python 3",
   "language": "python",
   "name": "python3"
  },
  "language_info": {
   "codemirror_mode": {
    "name": "ipython",
    "version": 3
   },
   "file_extension": ".py",
   "mimetype": "text/x-python",
   "name": "python",
   "nbconvert_exporter": "python",
   "pygments_lexer": "ipython3",
   "version": "3.7.6"
  }
 },
 "nbformat": 4,
 "nbformat_minor": 4
}
